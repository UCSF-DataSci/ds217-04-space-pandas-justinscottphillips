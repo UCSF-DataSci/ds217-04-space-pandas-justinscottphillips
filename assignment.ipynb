{
 "cells": [
  {
   "cell_type": "markdown",
   "id": "0b16dc9a",
   "metadata": {},
   "source": [
    "## Instructions\n",
    "\n",
    "Complete the three questions below. Each question builds on the previous one.\n",
    "\n",
    "**Important:**\n",
    "- Run cells in order from top to bottom\n",
    "- Each question must save a CSV file to the `output/` directory\n",
    "- Test your work locally before submitting: `pytest .github/test/test_assignment.py -v`\n",
    "- Before final submission: Restart kernel and \"Run All\" to verify everything works\n",
    "\n",
    "---\n",
    "\n",
    "## Setup\n",
    "\n",
    "Run this cell first to import libraries and create the output directory:"
   ]
  },
  {
   "cell_type": "code",
   "execution_count": 45,
   "id": "b8e9e88c",
   "metadata": {},
   "outputs": [
    {
     "name": "stdout",
     "output_type": "stream",
     "text": [
      "✓ Setup complete\n"
     ]
    }
   ],
   "source": [
    "import pandas as pd\n",
    "import numpy as np\n",
    "import os\n",
    "\n",
    "# Create output directory\n",
    "os.makedirs('output', exist_ok=True)\n",
    "\n",
    "print(\"✓ Setup complete\")"
   ]
  },
  {
   "cell_type": "markdown",
   "id": "ff00bfd2",
   "metadata": {},
   "source": [
    "---\n",
    "\n",
    "## Question 1: Data Loading & Exploration\n",
    "\n",
    "**Objective:** Load the dataset, select specific columns, perform basic inspection, and generate summary statistics.\n",
    "\n",
    "### Part A: Load and Inspect the Data\n",
    "\n",
    "Load `data/customer_purchases.csv` and display basic information about the dataset."
   ]
  },
  {
   "cell_type": "code",
   "execution_count": 46,
   "id": "5927f444",
   "metadata": {},
   "outputs": [
    {
     "name": "stdout",
     "output_type": "stream",
     "text": [
      "Data shape: (15000, 9)\n",
      "First 5 rows:\n",
      "   purchase_id customer_id product_category product_name  quantity  \\\n",
      "0      P00001       C0147            Books        Shoes       1.0   \n",
      "1      P00002       C0061    Home & Garden          Hat       1.0   \n",
      "2      P00003       C0394    Home & Garden      T-Shirt       4.0   \n",
      "3      P00004       C0343           Sports     Yoga Mat       2.0   \n",
      "4      P00005       C0022            Books          Rug       5.0   \n",
      "\n",
      "   price_per_item purchase_date customer_state shipping_method  \n",
      "0          451.68    2024-08-12             IL       Overnight  \n",
      "1          352.84    2024-03-29             WA        Standard  \n",
      "2          120.66    2024-07-11             FL        Standard  \n",
      "3          374.80    2024-09-08             CA        Standard  \n",
      "4          311.48    2024-06-28             NY         Express  \n",
      "Column names and data types:\n",
      "<class 'pandas.core.frame.DataFrame'>\n",
      "RangeIndex: 15000 entries, 0 to 14999\n",
      "Data columns (total 9 columns):\n",
      " #   Column            Non-Null Count  Dtype  \n",
      "---  ------            --------------  -----  \n",
      " 0   purchase_id       15000 non-null  object \n",
      " 1   customer_id       15000 non-null  object \n",
      " 2   product_category  15000 non-null  object \n",
      " 3   product_name      15000 non-null  object \n",
      " 4   quantity          14400 non-null  float64\n",
      " 5   price_per_item    15000 non-null  float64\n",
      " 6   purchase_date     15000 non-null  object \n",
      " 7   customer_state    15000 non-null  object \n",
      " 8   shipping_method   14400 non-null  object \n",
      "dtypes: float64(2), object(7)\n",
      "memory usage: 1.0+ MB\n"
     ]
    }
   ],
   "source": [
    "# Load the CSV file into a DataFrame called 'df'\n",
    "df = pd.read_csv('data/customer_purchases.csv')  # Replace with pd.read_csv(...)\n",
    "\n",
    "# Display the shape of the DataFrame\n",
    "# Hint: Use .shape\n",
    "print(\"Data shape:\", df.shape)\n",
    "\n",
    "\n",
    "# Display the first 5 rows\n",
    "# Hint: Use .head()\n",
    "print(\"First 5 rows:\\n\", df.head())\n",
    "\n",
    "\n",
    "# Display column names and data types\n",
    "# Hint: Use .info()\n",
    "print(\"Column names and data types:\")\n",
    "df.info()"
   ]
  },
  {
   "cell_type": "markdown",
   "id": "14e36a27",
   "metadata": {},
   "source": [
    "### Part B: Check for Missing Values\n",
    "\n",
    "Identify which columns have missing values and how many."
   ]
  },
  {
   "cell_type": "code",
   "execution_count": 47,
   "id": "19082e14",
   "metadata": {},
   "outputs": [
    {
     "name": "stdout",
     "output_type": "stream",
     "text": [
      "Missing values per column:\n",
      " purchase_id           0\n",
      "customer_id           0\n",
      "product_category      0\n",
      "product_name          0\n",
      "quantity            600\n",
      "price_per_item        0\n",
      "purchase_date         0\n",
      "customer_state        0\n",
      "shipping_method     600\n",
      "dtype: int64\n"
     ]
    }
   ],
   "source": [
    "# Display the count of missing values for each column\n",
    "# Hint: Use .isnull().sum()\n",
    "print(\"Missing values per column:\\n\", df.isnull().sum())\n"
   ]
  },
  {
   "cell_type": "markdown",
   "id": "d384d35c",
   "metadata": {},
   "source": [
    "### Part C: Select Numeric Columns\n",
    "\n",
    "Create a new DataFrame containing only the numeric columns from the original data."
   ]
  },
  {
   "cell_type": "code",
   "execution_count": 48,
   "id": "19072226",
   "metadata": {},
   "outputs": [],
   "source": [
    "# Select only numeric columns into a new DataFrame called 'df_numeric'\n",
    "# Hint: Use .select_dtypes(include=['number'])\n",
    "df_numeric = df.select_dtypes(include=['number'])"
   ]
  },
  {
   "cell_type": "markdown",
   "id": "b7cceb93",
   "metadata": {},
   "source": [
    "### Part D: Generate Summary Statistics\n",
    "\n",
    "Calculate summary statistics for the numeric columns."
   ]
  },
  {
   "cell_type": "code",
   "execution_count": 49,
   "id": "c027e321",
   "metadata": {},
   "outputs": [
    {
     "name": "stdout",
     "output_type": "stream",
     "text": [
      "Summary statistics:\n",
      "            quantity  price_per_item\n",
      "count  14400.000000    15000.000000\n",
      "mean       3.005000      253.517283\n",
      "std        1.416658      141.440121\n",
      "min        1.000000       10.090000\n",
      "25%        2.000000      130.582500\n",
      "50%        3.000000      254.580000\n",
      "75%        4.000000      375.612500\n",
      "max        5.000000      499.960000\n"
     ]
    }
   ],
   "source": [
    "# Generate summary statistics for df_numeric\n",
    "# Hint: Use .describe()\n",
    "summary_stats = df_numeric.describe()\n",
    "print(\"Summary statistics:\\n\", summary_stats)\n",
    "\n",
    "# Save the summary statistics to 'output/exploration_summary.csv'\n",
    "# Hint: Use .to_csv()\n",
    "# Example: summary_stats.to_csv('output/exploration_summary.csv')\n",
    "summary_stats.to_csv('output/exploration_summary.csv')\n"
   ]
  },
  {
   "cell_type": "markdown",
   "id": "a5c4f4f5",
   "metadata": {},
   "source": [
    "**Expected output file:** `output/exploration_summary.csv` containing summary statistics (count, mean, std, min, 25%, 50%, 75%, max) for numeric columns.\n",
    "\n",
    "---\n",
    "\n",
    "## Question 2: Data Cleaning & Transformation\n",
    "\n",
    "**Objective:** Handle missing values, convert data types, filter the data, and save the cleaned dataset.\n",
    "\n",
    "### Part A: Handle Missing Values\n",
    "\n",
    "Fill missing values in the `quantity` column with 1, and drop rows where `shipping_method` is missing."
   ]
  },
  {
   "cell_type": "code",
   "execution_count": 50,
   "id": "ccfbd5e6",
   "metadata": {},
   "outputs": [
    {
     "name": "stdout",
     "output_type": "stream",
     "text": [
      "Missing values after cleaning:\n",
      " quantity           0\n",
      "shipping_method    0\n",
      "dtype: int64\n"
     ]
    }
   ],
   "source": [
    "# Fill missing 'quantity' values with 1\n",
    "# Hint: Use .fillna()\n",
    "df['quantity'] = df['quantity'].fillna(1)\n",
    "\n",
    "# Drop rows where 'shipping_method' is missing\n",
    "# Hint: Use .dropna(subset=['column_name'])\n",
    "df = df.dropna(subset=['shipping_method'])\n",
    "\n",
    "# Verify no missing values remain in 'quantity' and 'shipping_method'\n",
    "# Hint: Use .isnull().sum()\n",
    "print(\"Missing values after cleaning:\\n\", df[['quantity', 'shipping_method']].isnull().sum())"
   ]
  },
  {
   "cell_type": "markdown",
   "id": "f9eb921d",
   "metadata": {},
   "source": [
    "### Part B: Convert Data Types\n",
    "\n",
    "Convert the `purchase_date` column from string to datetime, and `quantity` to integer."
   ]
  },
  {
   "cell_type": "code",
   "execution_count": 51,
   "id": "9ce1fc13",
   "metadata": {},
   "outputs": [
    {
     "name": "stdout",
     "output_type": "stream",
     "text": [
      "Data types after conversion:\n",
      " purchase_id                 object\n",
      "customer_id                 object\n",
      "product_category            object\n",
      "product_name                object\n",
      "quantity                     int64\n",
      "price_per_item             float64\n",
      "purchase_date       datetime64[ns]\n",
      "customer_state              object\n",
      "shipping_method             object\n",
      "dtype: object\n"
     ]
    }
   ],
   "source": [
    "# Convert 'purchase_date' to datetime\n",
    "# Hint: Use pd.to_datetime()\n",
    "df['purchase_date'] = pd.to_datetime(df['purchase_date'])\n",
    "\n",
    "# Convert 'quantity' to integer type\n",
    "# Hint: Use .astype('int64')\n",
    "df['quantity'] = df['quantity'].astype('int64')\n",
    "\n",
    "# Verify the data types changed\n",
    "# Hint: Use .dtypes\n",
    "print(\"Data types after conversion:\\n\", df.dtypes)"
   ]
  },
  {
   "cell_type": "markdown",
   "id": "a532b8da",
   "metadata": {},
   "source": [
    "### Part C: Filter the Data\n",
    "\n",
    "Keep only purchases from California (CA) and New York (NY) with quantity greater than or equal to 2."
   ]
  },
  {
   "cell_type": "code",
   "execution_count": 52,
   "id": "a68bea3e",
   "metadata": {},
   "outputs": [
    {
     "name": "stdout",
     "output_type": "stream",
     "text": [
      "Rows after filtering: 3581\n"
     ]
    }
   ],
   "source": [
    "# Filter the DataFrame to keep only:\n",
    "#       - customer_state is 'CA' or 'NY'\n",
    "#       - quantity >= 2\n",
    "# Hint: Use boolean indexing with &\n",
    "# Hint: Use .isin(['CA', 'NY']) for multiple values\n",
    "df_filtered = df[(df['customer_state'].isin(['CA', 'NY'])) & (df['quantity'] >= 2)].copy()\n",
    "\n",
    "# Display how many rows remain after filtering\n",
    "print(\"Rows after filtering:\", df_filtered.shape[0])"
   ]
  },
  {
   "cell_type": "markdown",
   "id": "022ee50f",
   "metadata": {},
   "source": [
    "### Part D: Save Cleaned Data\n",
    "\n",
    "Save the cleaned and filtered DataFrame."
   ]
  },
  {
   "cell_type": "code",
   "execution_count": 53,
   "id": "9abcc74b",
   "metadata": {},
   "outputs": [],
   "source": [
    "# Save df_filtered to 'output/cleaned_data.csv' (without the index)\n",
    "# Hint: Use .to_csv('filename.csv', index=False)\n",
    "df_filtered.to_csv('output/cleaned_data.csv', index=False)"
   ]
  },
  {
   "cell_type": "markdown",
   "id": "347b080b",
   "metadata": {},
   "source": [
    "**Expected output file:** `output/cleaned_data.csv` containing the cleaned and filtered data (no missing values in quantity/shipping_method, only CA/NY states, quantity >= 2, datetime and integer types).\n",
    "\n",
    "---\n",
    "\n",
    "## Question 3: Analysis & Aggregation\n",
    "\n",
    "**Objective:** Create calculated columns, perform groupby aggregations, find top products, and save results.\n",
    "\n",
    "**Note:** Use the cleaned DataFrame (`df_filtered`) from Question 2 for this question.\n",
    "\n",
    "### Part A: Create a Calculated Column\n",
    "\n",
    "Create a new column `total_price` by multiplying `quantity` and `price_per_item`."
   ]
  },
  {
   "cell_type": "code",
   "execution_count": 54,
   "id": "63695cb3",
   "metadata": {},
   "outputs": [
    {
     "name": "stdout",
     "output_type": "stream",
     "text": [
      "Head, total_price:\n",
      "    purchase_id customer_id product_category  product_name  quantity  \\\n",
      "3       P00004       C0343           Sports      Yoga Mat         2   \n",
      "4       P00005       C0022            Books           Rug         5   \n",
      "5       P00006       C0121      Electronics    Basketball         3   \n",
      "11      P00012       C0444           Sports       Cushion         5   \n",
      "16      P00017       C0337    Home & Garden  Garden Tools         3   \n",
      "\n",
      "    price_per_item purchase_date customer_state shipping_method  total_price  \n",
      "3           374.80    2024-09-08             CA        Standard       749.60  \n",
      "4           311.48    2024-06-28             NY         Express      1557.40  \n",
      "5            31.62    2024-08-28             CA       Overnight        94.86  \n",
      "11           54.50    2024-09-27             CA       Overnight       272.50  \n",
      "16          234.02    2024-11-04             NY         Express       702.06  \n"
     ]
    }
   ],
   "source": [
    "# Create 'total_price' column\n",
    "# Hint: df['new_col'] = df['col1'] * df['col2']\n",
    "df_filtered['total_price'] = df_filtered['quantity'] * df_filtered['price_per_item']\n",
    "\n",
    "# Display the first few rows to verify\n",
    "print(\"Head, total_price:\\n\", df_filtered.head())"
   ]
  },
  {
   "cell_type": "markdown",
   "id": "303e3716",
   "metadata": {},
   "source": [
    "### Part B: Calculate Total Revenue by Product Category\n",
    "\n",
    "Group the data by `product_category` and calculate the sum of `total_price` for each category."
   ]
  },
  {
   "cell_type": "code",
   "execution_count": 55,
   "id": "98206c2c",
   "metadata": {},
   "outputs": [
    {
     "name": "stdout",
     "output_type": "stream",
     "text": [
      "Revenue by product category:\n",
      " product_category\n",
      "Books            670944.49\n",
      "Electronics      667752.29\n",
      "Home & Garden    657306.22\n",
      "Clothing         616055.11\n",
      "Sports           612952.69\n",
      "Name: total_price, dtype: float64\n"
     ]
    }
   ],
   "source": [
    "# Group by 'product_category' and sum 'total_price'\n",
    "# Hint: Use .groupby('column')['target'].sum()\n",
    "revenue_by_category = df_filtered.groupby('product_category')['total_price'].sum()\n",
    "\n",
    "# Sort by revenue (descending)\n",
    "# Hint: Use .sort_values(ascending=False)\n",
    "revenue_by_category = revenue_by_category.sort_values(ascending=False)\n",
    "\n",
    "# Display the results\n",
    "print(\"Revenue by product category:\\n\", revenue_by_category)"
   ]
  },
  {
   "cell_type": "markdown",
   "id": "8087c271",
   "metadata": {},
   "source": [
    "### Part C: Find Top 5 Products by Quantity Sold\n",
    "\n",
    "Find the 5 products with the highest total quantity sold."
   ]
  },
  {
   "cell_type": "code",
   "execution_count": 56,
   "id": "fb23e3a1",
   "metadata": {},
   "outputs": [
    {
     "name": "stdout",
     "output_type": "stream",
     "text": [
      "Top 5 products by quantity sold:\n",
      " product_name\n",
      "Garden Tools     655\n",
      "Headphones       614\n",
      "Dumbbells        604\n",
      "Cushion          588\n",
      "Tennis Racket    582\n",
      "Name: quantity, dtype: int64\n"
     ]
    }
   ],
   "source": [
    "# Group by 'product_name' and sum 'quantity'\n",
    "top_5_products = df_filtered.groupby('product_name')['quantity'].sum()\n",
    "\n",
    "# Get the top 5 using .nlargest(5) or .sort_values().head(5)\n",
    "top_5_products = top_5_products.nlargest(5)\n",
    "\n",
    "# Display the results\n",
    "print(\"Top 5 products by quantity sold:\\n\", top_5_products)"
   ]
  },
  {
   "cell_type": "markdown",
   "id": "30f90c4a",
   "metadata": {},
   "source": [
    "### Part D: Save Analysis Results\n",
    "\n",
    "Combine the revenue by category and top 5 products into a summary and save it."
   ]
  },
  {
   "cell_type": "code",
   "execution_count": null,
   "id": "f54a026f",
   "metadata": {},
   "outputs": [
    {
     "name": "stdout",
     "output_type": "stream",
     "text": [
      "  product_category  total_revenue    top_product  quantity_sold\n",
      "0            Books      670944.49   Garden Tools            655\n",
      "1      Electronics      667752.29     Headphones            614\n",
      "2    Home & Garden      657306.22      Dumbbells            604\n",
      "3         Clothing      616055.11        Cushion            588\n",
      "4           Sports      612952.69  Tennis Racket            582\n",
      "Analysis DataFrame:\n",
      "   product_category  total_revenue\n",
      "0            Books      670944.49\n",
      "1      Electronics      667752.29\n",
      "2    Home & Garden      657306.22\n",
      "3         Clothing      616055.11\n",
      "4           Sports      612952.69\n"
     ]
    }
   ],
   "source": [
    "#  Create a DataFrame with your analysis results\n",
    "# Hint: You can create a DataFrame with:\n",
    "#   pd.DataFrame({\n",
    "#       'category_revenue': revenue_by_category,\n",
    "#       'top_products': top_5_products  # You may need to reindex or align these\n",
    "#   })\n",
    "#\n",
    "# OR save them separately and combine in a way that makes sense\n",
    "# The tests will check that you saved the correct aggregated data\n",
    "#\n",
    "# Convert revenue_by_category and top_5_products DataFrames\n",
    "rev_cat_df = revenue_by_category.reset_index()\n",
    "rev_cat_df.columns = ['product_category', 'total_revenue']\n",
    "\n",
    "top5_df = top_5_products.reset_index()\n",
    "top5_df.columns = ['product_name', 'quantity_sold']\n",
    "\n",
    "# Make top5_df the same # of rows as rev_cat_df\n",
    "top5_padded = top5_df.reindex(range(len(rev_cat_df)))\n",
    "\n",
    "# Combine into a single DataFrame\n",
    "df_analysis = pd.DataFrame({\n",
    "    'product_category': rev_cat_df['product_category'],\n",
    "    'total_revenue': rev_cat_df['total_revenue'],\n",
    "    'top_product': top5_padded['product_name'],\n",
    "    'quantity_sold': top5_padded['quantity_sold']\n",
    "})\n",
    "\n",
    "# Save to 'output/analysis_results.csv'\n",
    "# Make sure the CSV has at least these columns or data:\n",
    "#   - Product categories with their total revenue\n",
    "#   - Top products by quantity\n",
    "# Format the output so the auto-grader can find the aggregated values\n",
    "# Save analysis_summary or your own structured result\n",
    "# analysis_summary.to_csv('output/analysis_results.csv', index=False)\n",
    "df_analysis.to_csv('output/analysis_results.csv', index=False)\n",
    "\n",
    "\n"
   ]
  },
  {
   "cell_type": "markdown",
   "id": "efc54d41",
   "metadata": {},
   "source": [
    "**Expected output file:** `output/analysis_results.csv` containing aggregated analysis results (revenue by category, top products)."
   ]
  },
  {
   "cell_type": "code",
   "execution_count": null,
   "id": "2594d780",
   "metadata": {},
   "outputs": [],
   "source": [
    "\n",
    "\n",
    "# TODO: Save to 'output/analysis_results.csv'\n",
    "# Make sure the CSV has at least these columns or data:\n",
    "#   - Product categories with their total revenue\n",
    "#   - Top products by quantity\n",
    "# Format the output so the auto-grader can find the aggregated values\n",
    "\n",
    "# Example structure (adjust as needed):\n",
    "analysis_summary = pd.DataFrame({\n",
    "    'product_category': revenue_by_category.index,\n",
    "    'total_revenue': revenue_by_category.values\n",
    "})\n",
    "\n",
    "# TODO: Save analysis_summary or your own structured result\n",
    "# analysis_summary.to_csv('output/analysis_results.csv', index=False)"
   ]
  },
  {
   "cell_type": "code",
   "execution_count": null,
   "id": "36fdd342",
   "metadata": {},
   "outputs": [],
   "source": [
    "\n",
    "\n",
    "# Convert revenue_by_category and top_5_products to DataFrames\n",
    "rev_cat_df = revenue_by_category.reset_index()\n",
    "rev_cat_df.columns = ['product_category', 'total_revenue']\n",
    "\n",
    "top5_df = top_5_products.reset_index()\n",
    "top5_df.columns = ['product_name', 'quantity_sold']\n",
    "\n",
    "# Make top5_df the same number of rows as rev_cat_df by adding blank rows if needed\n",
    "top5_padded = top5_df.reindex(range(len(rev_cat_df)))\n",
    "\n",
    "# Combine into a single DataFrame\n",
    "df_analysis = pd.DataFrame({\n",
    "    'product_category': rev_cat_df['product_category'],\n",
    "    'total_revenue': rev_cat_df['total_revenue'],\n",
    "    'top_product': top5_padded['product_name'],\n",
    "    'quantity_sold': top5_padded['quantity_sold']\n",
    "})\n",
    "\n",
    "# Print and save the analysis\n",
    "print(df_analysis)\n",
    "df_analysis.to_csv('output/analysis_results.csv', index=False)\n"
   ]
  }
 ],
 "metadata": {
  "kernelspec": {
   "display_name": "venv (3.13.7)",
   "language": "python",
   "name": "python3"
  },
  "language_info": {
   "codemirror_mode": {
    "name": "ipython",
    "version": 3
   },
   "file_extension": ".py",
   "mimetype": "text/x-python",
   "name": "python",
   "nbconvert_exporter": "python",
   "pygments_lexer": "ipython3",
   "version": "3.13.7"
  }
 },
 "nbformat": 4,
 "nbformat_minor": 5
}

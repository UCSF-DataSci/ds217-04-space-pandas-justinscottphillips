{
 "cells": [
  {
   "cell_type": "markdown",
   "id": "0b16dc9a",
   "metadata": {},
   "source": [
    "## Instructions\n",
    "\n",
    "Complete the three questions below. Each question builds on the previous one.\n",
    "\n",
    "**Important:**\n",
    "- Run cells in order from top to bottom\n",
    "- Each question must save a CSV file to the `output/` directory\n",
    "- Test your work locally before submitting: `pytest .github/test/test_assignment.py -v`\n",
    "- Before final submission: Restart kernel and \"Run All\" to verify everything works\n",
    "\n",
    "---\n",
    "\n",
    "## Setup\n",
    "\n",
    "Run this cell first to import libraries and create the output directory:"
   ]
  },
  {
   "cell_type": "code",
   "execution_count": 1,
   "id": "b8e9e88c",
   "metadata": {},
   "outputs": [
    {
     "name": "stdout",
     "output_type": "stream",
     "text": [
      "✓ Setup complete\n"
     ]
    }
   ],
   "source": [
    "import pandas as pd\n",
    "import numpy as np\n",
    "import os\n",
    "\n",
    "# Create output directory\n",
    "os.makedirs('output', exist_ok=True)\n",
    "\n",
    "print(\"✓ Setup complete\")"
   ]
  },
  {
   "cell_type": "markdown",
   "id": "ff00bfd2",
   "metadata": {},
   "source": [
    "---\n",
    "\n",
    "## Question 1: Data Loading & Exploration\n",
    "\n",
    "**Objective:** Load the dataset, select specific columns, perform basic inspection, and generate summary statistics.\n",
    "\n",
    "### Part A: Load and Inspect the Data\n",
    "\n",
    "Load `data/customer_purchases.csv` and display basic information about the dataset."
   ]
  },
  {
   "cell_type": "code",
   "execution_count": 2,
   "id": "5927f444",
   "metadata": {},
   "outputs": [
    {
     "name": "stdout",
     "output_type": "stream",
     "text": [
      "Data shape: (15000, 9)\n",
      "First 5 rows:\n",
      "   purchase_id customer_id product_category product_name  quantity  \\\n",
      "0      P00001       C0147            Books        Shoes       1.0   \n",
      "1      P00002       C0061    Home & Garden          Hat       1.0   \n",
      "2      P00003       C0394    Home & Garden      T-Shirt       4.0   \n",
      "3      P00004       C0343           Sports     Yoga Mat       2.0   \n",
      "4      P00005       C0022            Books          Rug       5.0   \n",
      "\n",
      "   price_per_item purchase_date customer_state shipping_method  \n",
      "0          451.68    2024-08-12             IL       Overnight  \n",
      "1          352.84    2024-03-29             WA        Standard  \n",
      "2          120.66    2024-07-11             FL        Standard  \n",
      "3          374.80    2024-09-08             CA        Standard  \n",
      "4          311.48    2024-06-28             NY         Express  \n",
      "Column names and data types:\n",
      "<class 'pandas.core.frame.DataFrame'>\n",
      "RangeIndex: 15000 entries, 0 to 14999\n",
      "Data columns (total 9 columns):\n",
      " #   Column            Non-Null Count  Dtype  \n",
      "---  ------            --------------  -----  \n",
      " 0   purchase_id       15000 non-null  object \n",
      " 1   customer_id       15000 non-null  object \n",
      " 2   product_category  15000 non-null  object \n",
      " 3   product_name      15000 non-null  object \n",
      " 4   quantity          14400 non-null  float64\n",
      " 5   price_per_item    15000 non-null  float64\n",
      " 6   purchase_date     15000 non-null  object \n",
      " 7   customer_state    15000 non-null  object \n",
      " 8   shipping_method   14400 non-null  object \n",
      "dtypes: float64(2), object(7)\n",
      "memory usage: 1.0+ MB\n"
     ]
    }
   ],
   "source": [
    "# Load the CSV file into a DataFrame called 'df'\n",
    "df = pd.read_csv('data/customer_purchases.csv')  # Replace with pd.read_csv(...)\n",
    "\n",
    "# Display the shape of the DataFrame\n",
    "# Hint: Use .shape\n",
    "print(\"Data shape:\", df.shape)\n",
    "\n",
    "\n",
    "# Display the first 5 rows\n",
    "# Hint: Use .head()\n",
    "print(\"First 5 rows:\\n\", df.head())\n",
    "\n",
    "\n",
    "# Display column names and data types\n",
    "# Hint: Use .info()\n",
    "print(\"Column names and data types:\")\n",
    "df.info()"
   ]
  },
  {
   "cell_type": "markdown",
   "id": "14e36a27",
   "metadata": {},
   "source": [
    "### Part B: Check for Missing Values\n",
    "\n",
    "Identify which columns have missing values and how many."
   ]
  },
  {
   "cell_type": "code",
   "execution_count": null,
   "id": "19082e14",
   "metadata": {},
   "outputs": [
    {
     "name": "stdout",
     "output_type": "stream",
     "text": [
      "Missing values per column:\n",
      " purchase_id           0\n",
      "customer_id           0\n",
      "product_category      0\n",
      "product_name          0\n",
      "quantity            600\n",
      "price_per_item        0\n",
      "purchase_date         0\n",
      "customer_state        0\n",
      "shipping_method     600\n",
      "dtype: int64\n"
     ]
    }
   ],
   "source": [
    "# Display the count of missing values for each column\n",
    "# Hint: Use .isnull().sum()\n",
    "print(\"Missing values per column:\\n\", df.isnull().sum())\n"
   ]
  },
  {
   "cell_type": "markdown",
   "id": "d384d35c",
   "metadata": {},
   "source": [
    "### Part C: Select Numeric Columns\n",
    "\n",
    "Create a new DataFrame containing only the numeric columns from the original data."
   ]
  },
  {
   "cell_type": "code",
   "execution_count": null,
   "id": "19072226",
   "metadata": {},
   "outputs": [],
   "source": [
    "# Select only numeric columns into a new DataFrame called 'df_numeric'\n",
    "# Hint: Use .select_dtypes(include=['number'])\n",
    "df_numeric = df.select_dtypes(include=['number'])"
   ]
  },
  {
   "cell_type": "markdown",
   "id": "b7cceb93",
   "metadata": {},
   "source": [
    "### Part D: Generate Summary Statistics\n",
    "\n",
    "Calculate summary statistics for the numeric columns."
   ]
  },
  {
   "cell_type": "code",
   "execution_count": 7,
   "id": "c027e321",
   "metadata": {},
   "outputs": [
    {
     "name": "stdout",
     "output_type": "stream",
     "text": [
      "Summary statistics:\n",
      "            quantity  price_per_item\n",
      "count  14400.000000    15000.000000\n",
      "mean       3.005000      253.517283\n",
      "std        1.416658      141.440121\n",
      "min        1.000000       10.090000\n",
      "25%        2.000000      130.582500\n",
      "50%        3.000000      254.580000\n",
      "75%        4.000000      375.612500\n",
      "max        5.000000      499.960000\n"
     ]
    }
   ],
   "source": [
    "# Generate summary statistics for df_numeric\n",
    "# Hint: Use .describe()\n",
    "summary_stats = df_numeric.describe()\n",
    "print(\"Summary statistics:\\n\", summary_stats)\n",
    "\n",
    "# Save the summary statistics to 'output/exploration_summary.csv'\n",
    "# Hint: Use .to_csv()\n",
    "# Example: summary_stats.to_csv('output/exploration_summary.csv')\n",
    "summary_stats.to_csv('output/exploration_summary.csv')\n"
   ]
  },
  {
   "cell_type": "markdown",
   "id": "a5c4f4f5",
   "metadata": {},
   "source": [
    "**Expected output file:** `output/exploration_summary.csv` containing summary statistics (count, mean, std, min, 25%, 50%, 75%, max) for numeric columns.\n",
    "\n",
    "---\n",
    "\n",
    "## Question 2: Data Cleaning & Transformation\n",
    "\n",
    "**Objective:** Handle missing values, convert data types, filter the data, and save the cleaned dataset.\n",
    "\n",
    "### Part A: Handle Missing Values\n",
    "\n",
    "Fill missing values in the `quantity` column with 1, and drop rows where `shipping_method` is missing."
   ]
  },
  {
   "cell_type": "code",
   "execution_count": null,
   "id": "ccfbd5e6",
   "metadata": {},
   "outputs": [],
   "source": [
    "# TODO: Fill missing 'quantity' values with 1\n",
    "# Hint: Use .fillna()\n",
    "\n",
    "# TODO: Drop rows where 'shipping_method' is missing\n",
    "# Hint: Use .dropna(subset=['column_name'])\n",
    "\n",
    "# TODO: Verify no missing values remain in 'quantity' and 'shipping_method'\n",
    "# Hint: Use .isnull().sum()"
   ]
  },
  {
   "cell_type": "markdown",
   "id": "f9eb921d",
   "metadata": {},
   "source": [
    "### Part B: Convert Data Types\n",
    "\n",
    "Convert the `purchase_date` column from string to datetime, and `quantity` to integer."
   ]
  },
  {
   "cell_type": "code",
   "execution_count": null,
   "id": "9ce1fc13",
   "metadata": {},
   "outputs": [],
   "source": [
    "# TODO: Convert 'purchase_date' to datetime\n",
    "# Hint: Use pd.to_datetime()\n",
    "\n",
    "# TODO: Convert 'quantity' to integer type\n",
    "# Hint: Use .astype('int64')\n",
    "\n",
    "# TODO: Verify the data types changed\n",
    "# Hint: Use .dtypes"
   ]
  },
  {
   "cell_type": "markdown",
   "id": "a532b8da",
   "metadata": {},
   "source": [
    "### Part C: Filter the Data\n",
    "\n",
    "Keep only purchases from California (CA) and New York (NY) with quantity greater than or equal to 2."
   ]
  },
  {
   "cell_type": "code",
   "execution_count": null,
   "id": "a68bea3e",
   "metadata": {},
   "outputs": [],
   "source": [
    "# TODO: Filter the DataFrame to keep only:\n",
    "#       - customer_state is 'CA' or 'NY'\n",
    "#       - quantity >= 2\n",
    "# Hint: Use boolean indexing with &\n",
    "# Hint: Use .isin(['CA', 'NY']) for multiple values\n",
    "df_filtered = None  # Replace with your filtering code\n",
    "\n",
    "# TODO: Display how many rows remain after filtering"
   ]
  },
  {
   "cell_type": "markdown",
   "id": "022ee50f",
   "metadata": {},
   "source": [
    "### Part D: Save Cleaned Data\n",
    "\n",
    "Save the cleaned and filtered DataFrame."
   ]
  },
  {
   "cell_type": "code",
   "execution_count": null,
   "id": "9abcc74b",
   "metadata": {},
   "outputs": [],
   "source": [
    "# TODO: Save df_filtered to 'output/cleaned_data.csv' (without the index)\n",
    "# Hint: Use .to_csv('filename.csv', index=False)"
   ]
  },
  {
   "cell_type": "markdown",
   "id": "347b080b",
   "metadata": {},
   "source": [
    "**Expected output file:** `output/cleaned_data.csv` containing the cleaned and filtered data (no missing values in quantity/shipping_method, only CA/NY states, quantity >= 2, datetime and integer types).\n",
    "\n",
    "---\n",
    "\n",
    "## Question 3: Analysis & Aggregation\n",
    "\n",
    "**Objective:** Create calculated columns, perform groupby aggregations, find top products, and save results.\n",
    "\n",
    "**Note:** Use the cleaned DataFrame (`df_filtered`) from Question 2 for this question.\n",
    "\n",
    "### Part A: Create a Calculated Column\n",
    "\n",
    "Create a new column `total_price` by multiplying `quantity` and `price_per_item`."
   ]
  },
  {
   "cell_type": "code",
   "execution_count": null,
   "id": "63695cb3",
   "metadata": {},
   "outputs": [],
   "source": [
    "# TODO: Create 'total_price' column\n",
    "# Hint: df['new_col'] = df['col1'] * df['col2']\n",
    "\n",
    "# TODO: Display the first few rows to verify"
   ]
  },
  {
   "cell_type": "markdown",
   "id": "303e3716",
   "metadata": {},
   "source": [
    "### Part B: Calculate Total Revenue by Product Category\n",
    "\n",
    "Group the data by `product_category` and calculate the sum of `total_price` for each category."
   ]
  },
  {
   "cell_type": "code",
   "execution_count": null,
   "id": "98206c2c",
   "metadata": {},
   "outputs": [],
   "source": [
    "# TODO: Group by 'product_category' and sum 'total_price'\n",
    "# Hint: Use .groupby('column')['target'].sum()\n",
    "revenue_by_category = None  # Replace with your code\n",
    "\n",
    "# TODO: Sort by revenue (descending)\n",
    "# Hint: Use .sort_values(ascending=False)\n",
    "\n",
    "# TODO: Display the results"
   ]
  },
  {
   "cell_type": "markdown",
   "id": "8087c271",
   "metadata": {},
   "source": [
    "### Part C: Find Top 5 Products by Quantity Sold\n",
    "\n",
    "Find the 5 products with the highest total quantity sold."
   ]
  },
  {
   "cell_type": "code",
   "execution_count": null,
   "id": "fb23e3a1",
   "metadata": {},
   "outputs": [],
   "source": [
    "# TODO: Group by 'product_name' and sum 'quantity'\n",
    "# TODO: Get the top 5 using .nlargest(5) or .sort_values().head(5)\n",
    "top_5_products = None  # Replace with your code\n",
    "\n",
    "# TODO: Display the results"
   ]
  },
  {
   "cell_type": "markdown",
   "id": "30f90c4a",
   "metadata": {},
   "source": [
    "### Part D: Save Analysis Results\n",
    "\n",
    "Combine the revenue by category and top 5 products into a summary and save it."
   ]
  },
  {
   "cell_type": "code",
   "execution_count": null,
   "id": "f54a026f",
   "metadata": {},
   "outputs": [],
   "source": [
    "# TODO: Create a DataFrame with your analysis results\n",
    "# Hint: You can create a DataFrame with:\n",
    "#   pd.DataFrame({\n",
    "#       'category_revenue': revenue_by_category,\n",
    "#       'top_products': top_5_products  # You may need to reindex or align these\n",
    "#   })\n",
    "#\n",
    "# OR save them separately and combine in a way that makes sense\n",
    "# The tests will check that you saved the correct aggregated data\n",
    "\n",
    "# TODO: Save to 'output/analysis_results.csv'\n",
    "# Make sure the CSV has at least these columns or data:\n",
    "#   - Product categories with their total revenue\n",
    "#   - Top products by quantity\n",
    "# Format the output so the auto-grader can find the aggregated values\n",
    "\n",
    "# Example structure (adjust as needed):\n",
    "analysis_summary = pd.DataFrame({\n",
    "    'product_category': revenue_by_category.index,\n",
    "    'total_revenue': revenue_by_category.values\n",
    "})\n",
    "\n",
    "# TODO: Save analysis_summary or your own structured result\n",
    "# analysis_summary.to_csv('output/analysis_results.csv', index=False)"
   ]
  },
  {
   "cell_type": "markdown",
   "id": "efc54d41",
   "metadata": {},
   "source": [
    "**Expected output file:** `output/analysis_results.csv` containing aggregated analysis results (revenue by category, top products)."
   ]
  }
 ],
 "metadata": {
  "kernelspec": {
   "display_name": "venv (3.13.7)",
   "language": "python",
   "name": "python3"
  },
  "language_info": {
   "codemirror_mode": {
    "name": "ipython",
    "version": 3
   },
   "file_extension": ".py",
   "mimetype": "text/x-python",
   "name": "python",
   "nbconvert_exporter": "python",
   "pygments_lexer": "ipython3",
   "version": "3.13.7"
  }
 },
 "nbformat": 4,
 "nbformat_minor": 5
}
